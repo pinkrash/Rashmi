{
 "cells": [
  {
   "cell_type": "markdown",
   "id": "a3b15e80",
   "metadata": {},
   "source": [
    "# Python worksheet  1"
   ]
  },
  {
   "cell_type": "code",
   "execution_count": null,
   "id": "04fad934",
   "metadata": {},
   "outputs": [],
   "source": [
    "1. (C) %"
   ]
  },
  {
   "cell_type": "code",
   "execution_count": null,
   "id": "b43c4e06",
   "metadata": {},
   "outputs": [],
   "source": [
    "2. (B) 0"
   ]
  },
  {
   "cell_type": "code",
   "execution_count": null,
   "id": "882af0b7",
   "metadata": {},
   "outputs": [],
   "source": [
    "3. (C) 24"
   ]
  },
  {
   "cell_type": "code",
   "execution_count": null,
   "id": "033a1021",
   "metadata": {},
   "outputs": [],
   "source": [
    "4. (A) 2"
   ]
  },
  {
   "cell_type": "code",
   "execution_count": null,
   "id": "f9e8d344",
   "metadata": {},
   "outputs": [],
   "source": [
    "5. (D) 6"
   ]
  },
  {
   "cell_type": "code",
   "execution_count": null,
   "id": "21221114",
   "metadata": {},
   "outputs": [],
   "source": [
    "6. (C) the finally block will be executed no matter if the try block raises an error or not."
   ]
  },
  {
   "cell_type": "code",
   "execution_count": null,
   "id": "691e1445",
   "metadata": {},
   "outputs": [],
   "source": [
    "7. (A) It is used to raise an exception"
   ]
  },
  {
   "cell_type": "code",
   "execution_count": null,
   "id": "f109f47b",
   "metadata": {},
   "outputs": [],
   "source": [
    "8. (C) in defining a generator"
   ]
  },
  {
   "cell_type": "code",
   "execution_count": null,
   "id": "5e1396c5",
   "metadata": {},
   "outputs": [],
   "source": [
    "9. (A,C) _abc,abc2"
   ]
  },
  {
   "cell_type": "code",
   "execution_count": null,
   "id": "9c82752f",
   "metadata": {},
   "outputs": [],
   "source": [
    "10. (A,B) yield,raise"
   ]
  },
  {
   "cell_type": "code",
   "execution_count": null,
   "id": "5b7f0033",
   "metadata": {},
   "outputs": [],
   "source": [
    "# Write a python program to find the factorial of a number."
   ]
  },
  {
   "cell_type": "code",
   "execution_count": 45,
   "id": "d9616e24",
   "metadata": {},
   "outputs": [],
   "source": [
    "\n",
    "def factorial (num):\n",
    "    fact=1\n",
    "    if num < 0:\n",
    "        print(\"factorial does not exist\")\n",
    "    elif num == 0:\n",
    "        print(\"The factorial of 0 is 1\")\n",
    "    else:\n",
    "        for i in range(1,num + 1):\n",
    "            fact = fact*i\n",
    "    \n",
    "    print(\"The factorial of\",num,\"is\",fact)"
   ]
  },
  {
   "cell_type": "code",
   "execution_count": 46,
   "id": "2f6710ba",
   "metadata": {},
   "outputs": [
    {
     "name": "stdout",
     "output_type": "stream",
     "text": [
      "The factorial of 5 is 120\n"
     ]
    }
   ],
   "source": [
    "factorial(5)"
   ]
  },
  {
   "cell_type": "code",
   "execution_count": 39,
   "id": "4e0a94e7",
   "metadata": {},
   "outputs": [],
   "source": [
    "# Write a python program to find whether a number is prime or composite.\n"
   ]
  },
  {
   "cell_type": "code",
   "execution_count": 36,
   "id": "8496e7e9",
   "metadata": {},
   "outputs": [],
   "source": [
    "def number (n):\n",
    "    if n>1:\n",
    "         for i in range(2,n+1):\n",
    "                 if n%i==0:\n",
    "                        print (n, \"is a composite number\")\n",
    "                 else:\n",
    "                    print(n, \"is a prime number\")\n",
    "                    break\n",
    "    elif n==0:\n",
    "         print(n, \"is neitherr prime nor composite\")\n",
    "    elif n==1:\n",
    "         print(n,\"is neitherr prime nor composite\")\n",
    "    else:\n",
    "        print(error)\n",
    "    "
   ]
  },
  {
   "cell_type": "code",
   "execution_count": 37,
   "id": "3ff63f06",
   "metadata": {},
   "outputs": [
    {
     "name": "stdout",
     "output_type": "stream",
     "text": [
      "11 is a prime number\n"
     ]
    }
   ],
   "source": [
    "number(11)"
   ]
  },
  {
   "cell_type": "code",
   "execution_count": null,
   "id": "4427063c",
   "metadata": {},
   "outputs": [],
   "source": [
    "# Write a python program to check whether a given string is palindrome or not."
   ]
  },
  {
   "cell_type": "code",
   "execution_count": 49,
   "id": "e18a116e",
   "metadata": {},
   "outputs": [
    {
     "name": "stdout",
     "output_type": "stream",
     "text": [
      "Yes\n"
     ]
    }
   ],
   "source": [
    "def Palindrome(s):\n",
    "    return s == s[::-1]\n",
    "\n",
    "\n",
    "\n",
    "s = \"level\"\n",
    "A = Palindrome(s)\n",
    "\n",
    "if A:\n",
    "    print(\"Yes\")\n",
    "else:\n",
    "    print(\"No\")\n"
   ]
  },
  {
   "cell_type": "code",
   "execution_count": null,
   "id": "e72c5a61",
   "metadata": {},
   "outputs": [],
   "source": [
    "# Write a Python program to get the third side of right-angled triangle from two given sides."
   ]
  },
  {
   "cell_type": "code",
   "execution_count": 53,
   "id": "bf08a6bb",
   "metadata": {},
   "outputs": [],
   "source": [
    "def third_side (a,b):\n",
    "    c=(a**2+b**2)**0.5\n",
    "    print (c)"
   ]
  },
  {
   "cell_type": "code",
   "execution_count": 54,
   "id": "42d17442",
   "metadata": {},
   "outputs": [
    {
     "name": "stdout",
     "output_type": "stream",
     "text": [
      "5.0\n"
     ]
    }
   ],
   "source": [
    "third_side (3,4)"
   ]
  },
  {
   "cell_type": "code",
   "execution_count": null,
   "id": "5f2ea06e",
   "metadata": {},
   "outputs": [],
   "source": [
    "# Write a python program to print the frequency of each of the characters present in a given string."
   ]
  },
  {
   "cell_type": "code",
   "execution_count": 67,
   "id": "a04f5756",
   "metadata": {},
   "outputs": [
    {
     "name": "stdout",
     "output_type": "stream",
     "text": [
      "{'s': 1}\n",
      "{'a': 3}\n",
      "{'h': 1}\n",
      "{'a': 3}\n",
      "{'r': 1}\n",
      "{'a': 3}\n",
      "{'n': 1}\n"
     ]
    }
   ],
   "source": [
    "string= \"saharan\"\n",
    "for i in string:\n",
    "    a={i:string.count(i)}\n",
    "    print(a)\n",
    "    \n",
    "      \n",
    "    "
   ]
  }
 ],
 "metadata": {
  "kernelspec": {
   "display_name": "Python 3 (ipykernel)",
   "language": "python",
   "name": "python3"
  },
  "language_info": {
   "codemirror_mode": {
    "name": "ipython",
    "version": 3
   },
   "file_extension": ".py",
   "mimetype": "text/x-python",
   "name": "python",
   "nbconvert_exporter": "python",
   "pygments_lexer": "ipython3",
   "version": "3.11.3"
  }
 },
 "nbformat": 4,
 "nbformat_minor": 5
}
